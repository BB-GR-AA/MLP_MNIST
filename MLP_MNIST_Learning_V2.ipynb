{
  "nbformat": 4,
  "nbformat_minor": 0,
  "metadata": {
    "colab": {
      "name": "MLP_MNIST_Learning_V2.ipynb",
      "provenance": [],
      "collapsed_sections": [],
      "toc_visible": true
    },
    "kernelspec": {
      "name": "python3",
      "display_name": "Python 3"
    }
  },
  "cells": [
    {
      "cell_type": "markdown",
      "metadata": {
        "id": "0n56ChGSi7ST",
        "colab_type": "text"
      },
      "source": [
        "# Multilayer Perceptrion (MLP)\n",
        "\n",
        "- Classical ML example.\n",
        "- Use hidden-layers network to recognize numbers from images.\n",
        "\n",
        "Based on Marie Burle's course \\\\\n",
        "[Outline](https://wgschool.netlify.app/mlremake/) \\\\\n",
        "[Slides](https://westgrid-slides.netlify.app/pt_firstnn.html#/) \\\\\n",
        "\n",
        "<div>\n",
        "<img src=https://i.stack.imgur.com/xODHX.png width=\"500\"/>\n",
        "</div>\n",
        "\n",
        "Each connection between layers represents a linear transformations of the form: \\\\\n",
        "$T: \\mathbf{y} = \\mathbf{W}\\mathbf{x}+\\mathbf{b}$ \\\\\n",
        "\n",
        "\n"
      ]
    },
    {
      "cell_type": "markdown",
      "metadata": {
        "id": "f2ETu9FTiXB9",
        "colab_type": "text"
      },
      "source": [
        "# Google Colab \n",
        "Suggested tool. \\\\\n",
        "Ready to work, no instalation, no extra work, notebook.\n",
        "\n"
      ]
    },
    {
      "cell_type": "markdown",
      "metadata": {
        "id": "XPR2VpcOiXIg",
        "colab_type": "text"
      },
      "source": [
        "# MNIST dataset\n",
        "\n",
        "![](https://upload.wikimedia.org/wikipedia/commons/2/27/MnistExamples.png) \\\\\n",
        "Source: https://upload.wikimedia.org/wikipedia/commons/2/27/MnistExamples.png \\\\\n",
        "\n",
        "Greyscale 28x28 pixels (values from 0 to 255) <br>\n",
        "60,000 training pairs, labeled from 0 to 9 <br>\n",
        "10,000 testing pairs \n",
        "\n",
        "Several preprocessing steps\n",
        " - Centering images\n",
        " - normalizing amplitudes"
      ]
    },
    {
      "cell_type": "markdown",
      "metadata": {
        "id": "4EHQGRTQivzS",
        "colab_type": "text"
      },
      "source": [
        "# Creating a one hidden-layer Neural Network (NN)\n",
        "Aka MLP"
      ]
    },
    {
      "cell_type": "code",
      "metadata": {
        "id": "oQMm7QsEyg3B",
        "colab_type": "code",
        "colab": {}
      },
      "source": [
        "# Importing libraries\n",
        "\n",
        "import torch\n",
        "import torch.nn as nn\n",
        "import torch.optim as optim\n",
        "import torch.nn.functional as F\n",
        "from torchvision import datasets, transforms\n",
        "from torch.optim.lr_scheduler import StepLR\n",
        "import matplotlib.pyplot as plt\n"
      ],
      "execution_count": 1,
      "outputs": []
    },
    {
      "cell_type": "markdown",
      "metadata": {
        "id": "-EtYgCThfYO6",
        "colab_type": "text"
      },
      "source": [
        "## Comments\n",
        "\n",
        "Contains several well-known datasets, as MNIST. <br>\n",
        "Useful for examples and tests.\n",
        "\n",
        "<code> torch.nn </code> ONLY works with batches.\n",
        "\n",
        "Thus, we use <code> torch.utils.data.DataLoader </code> to extract those batches from the datasets.\n",
        "\n",
        "\n"
      ]
    },
    {
      "cell_type": "code",
      "metadata": {
        "id": "jCKmCn8RyqrI",
        "colab_type": "code",
        "colab": {
          "base_uri": "https://localhost:8080/",
          "height": 53
        },
        "outputId": "33c44048-7050-4ffb-93d5-545685a4cf13"
      },
      "source": [
        "# Loading and transforming the data into Pytorch tensors\n",
        "transform = transforms.Compose([transforms.ToTensor(),transforms.Normalize((0.1307,), (0.3081,))])\n",
        "# According to M. H. Burle, the mean and standard deviation of the MNIST training data are 0.1307 and 0.3081 respectively, hence these values\n",
        "\n",
        "train_data = datasets.MNIST('',train=True, download=True, transform=transform)\n",
        "test_data = datasets.MNIST('',train=False, download=True, transform=transform)\n",
        "\n",
        "print(f\"train_data elements: {len(train_data)}\")\n",
        "print(f\"test_data elements: {len(test_data)}\")"
      ],
      "execution_count": 2,
      "outputs": [
        {
          "output_type": "stream",
          "text": [
            "train_data elements: 60000\n",
            "test_data elements: 10000\n"
          ],
          "name": "stdout"
        }
      ]
    },
    {
      "cell_type": "code",
      "metadata": {
        "id": "7giuHBYLVE7l",
        "colab_type": "code",
        "colab": {
          "base_uri": "https://localhost:8080/",
          "height": 302
        },
        "outputId": "0fae63bb-4729-4c6b-81dd-251feaf1d13a"
      },
      "source": [
        "# DataLoaders\n",
        "\n",
        "train_loader = torch.utils.data.DataLoader(train_data, batch_size=20, shuffle=True)\n",
        "dataiter = iter(train_loader)\n",
        "batchimg, batchlabel = dataiter.next()\n",
        "\n",
        "batchplot = plt.figure(figsize=(20, 5))\n",
        "for i in torch.arange(20):\n",
        "    sub = batchplot.add_subplot(2, 10, i+1, xticks=[], yticks=[])\n",
        "    aux = sub.imshow(torch.squeeze(batchimg[i]), cmap='gray')\n",
        "    sub.set_title(str(batchlabel[i].item()), fontsize=25)"
      ],
      "execution_count": 3,
      "outputs": [
        {
          "output_type": "display_data",
          "data": {
            "image/png": "[encoded data removed]",
            "text/plain": [
              "<Figure size 1440x360 with 20 Axes>"
            ]
          },
          "metadata": {
            "tags": []
          }
        }
      ]
    },
    {
      "cell_type": "markdown",
      "metadata": {
        "id": "2IiO4ZSblERX",
        "colab_type": "text"
      },
      "source": [
        "<code> torch.utils.data.DataLoader </code> extracts a batch from the 60,000 training pairs or the 10,000 training ones <br>\n",
        "<code> iter() </code> creates an iterable object from the batch <br> \n",
        "<code> dataiter.next() </code> extracts the images and labels in different tensors<br>"
      ]
    },
    {
      "cell_type": "markdown",
      "metadata": {
        "id": "FAgNixZhEvRj",
        "colab_type": "text"
      },
      "source": [
        "We can also check the range of values of each image"
      ]
    },
    {
      "cell_type": "code",
      "metadata": {
        "id": "mQYtePbwELPN",
        "colab_type": "code",
        "colab": {
          "base_uri": "https://localhost:8080/",
          "height": 381
        },
        "outputId": "b3e32d85-8301-44d2-aab3-5dd404d9db95"
      },
      "source": [
        "for i in torch.arange(20):\n",
        "  a = torch.min(batchimg[i])\n",
        "  b = torch.max(batchimg[i])\n",
        "  print(i,\"\\t\",a.item(),\"\\t\",b.item())\n",
        "\n",
        "L1 = torch.min(batchimg[0])\n",
        "L2 = torch.max(batchimg[0])"
      ],
      "execution_count": 4,
      "outputs": [
        {
          "output_type": "stream",
          "text": [
            "tensor(0) \t -0.4242129623889923 \t 2.821486711502075\n",
            "tensor(1) \t -0.4242129623889923 \t 2.808758497238159\n",
            "tensor(2) \t -0.4242129623889923 \t 2.821486711502075\n",
            "tensor(3) \t -0.4242129623889923 \t 2.821486711502075\n",
            "tensor(4) \t -0.4242129623889923 \t 2.808758497238159\n",
            "tensor(5) \t -0.4242129623889923 \t 2.821486711502075\n",
            "tensor(6) \t -0.4242129623889923 \t 2.821486711502075\n",
            "tensor(7) \t -0.4242129623889923 \t 2.821486711502075\n",
            "tensor(8) \t -0.4242129623889923 \t 2.821486711502075\n",
            "tensor(9) \t -0.4242129623889923 \t 2.821486711502075\n",
            "tensor(10) \t -0.4242129623889923 \t 2.808758497238159\n",
            "tensor(11) \t -0.4242129623889923 \t 2.821486711502075\n",
            "tensor(12) \t -0.4242129623889923 \t 2.821486711502075\n",
            "tensor(13) \t -0.4242129623889923 \t 2.808758497238159\n",
            "tensor(14) \t -0.4242129623889923 \t 2.821486711502075\n",
            "tensor(15) \t -0.4242129623889923 \t 2.821486711502075\n",
            "tensor(16) \t -0.4242129623889923 \t 2.821486711502075\n",
            "tensor(17) \t -0.4242129623889923 \t 2.821486711502075\n",
            "tensor(18) \t -0.4242129623889923 \t 2.821486711502075\n",
            "tensor(19) \t -0.4242129623889923 \t 2.821486711502075\n"
          ],
          "name": "stdout"
        }
      ]
    },
    {
      "cell_type": "markdown",
      "metadata": {
        "id": "l37zj4I8jhuV",
        "colab_type": "text"
      },
      "source": [
        "## Defining the NN structure\n",
        "\n",
        "1 hidden layers <br>\n",
        "Two transformations <br>\n",
        "\n",
        "<div>\n",
        "<img src=https://drive.google.com/uc?export=view&id=1bjzN-nEp0Jcx5vdyRVozLlmDXwptWd4p width=\"500\"/>\n",
        "</div>\n",
        "\n",
        "784 pixels $\\xrightarrow{T_1}$ 128 neurons $\\xrightarrow{T_2}$ 10 neurons.\n",
        "\n",
        "\n",
        "The class <code> torch.nn.Module </code> is the \"Base class for all neural network modules\"\n"
      ]
    },
    {
      "cell_type": "code",
      "metadata": {
        "id": "zqSMDodP2b35",
        "colab_type": "code",
        "colab": {}
      },
      "source": [
        "# This is how we defin the network architecture\n",
        "\n",
        "class Net(nn.Module): \n",
        "  def __init__(self):\n",
        "    super(Net, self).__init__()\n",
        "    self.fc1 = nn.Linear(784,128) # fully connected\n",
        "    self.fc2 = nn.Linear(128,10) # 128 is arbitrary\n",
        "  def forward(self, x):\n",
        "    x = torch.flatten(x,1) #transforms a square, cube, etc into a line\n",
        "    x = self.fc1(x) # 1st LT\n",
        "    x = F.relu(x)   # activation function\n",
        "    x = self.fc2(x) # 2nd LT\n",
        "    output = F.log_softmax(x, dim=1) #activation function\n",
        "    return output\n",
        "\n",
        "class Net2(nn.Module): \n",
        "  def __init__(self):\n",
        "    super(Net2, self).__init__()\n",
        "    self.fc1 = nn.Linear(784,128) # fully connected\n",
        "    self.fc2 = nn.Linear(128,128) # 128 is arbitrary\n",
        "    self.fc3 = nn.Linear(128,10) # 128 is arbitrary\n",
        "  def forward(self, x):\n",
        "    x = torch.flatten(x,1) #transforms a square, cube, etc into a line\n",
        "    x = self.fc1(x) # 1st LT\n",
        "    x = F.relu(x)   # activation function\n",
        "    x = self.fc2(x)\n",
        "    x = F.relu(x)  \n",
        "    x = self.fc2(x) # 3rd LT\n",
        "    output = F.log_softmax(x, dim=1) #activation function\n",
        "    return output\n",
        "\n",
        "model = Net()\n",
        "model2 = Net()\n",
        "model3 = Net2()"
      ],
      "execution_count": 5,
      "outputs": []
    },
    {
      "cell_type": "markdown",
      "metadata": {
        "id": "0_H8Z7Kuj58L",
        "colab_type": "text"
      },
      "source": [
        "<code> model </code> contains the net. \n",
        "It will be trained through the iterations, and we can evaluate an image by writing <br>\n",
        "<code> output = model(tensor_variable) </code>"
      ]
    },
    {
      "cell_type": "markdown",
      "metadata": {
        "id": "BIJ7anSh5ta9",
        "colab_type": "text"
      },
      "source": [
        "## Auxiliary functions\n",
        "\n",
        "We will define the training and testing processes as functions so we can call them iteratively.\n",
        "\n",
        "<code> model.train()</code> and <code> model.eval()</code> set the module in training or evaluation modes respectively. "
      ]
    },
    {
      "cell_type": "code",
      "metadata": {
        "id": "ojoyHjr15s7l",
        "colab_type": "code",
        "colab": {}
      },
      "source": [
        "# Training function\n",
        "def train(model, device, train_loader, optimizer, epoch):\n",
        "    model.train()\n",
        "    for batch_idx, (data, target) in enumerate(train_loader):\n",
        "        data, target = data.to(device), target.to(device)\n",
        "        optimizer.zero_grad()\n",
        "        output = model(data)\n",
        "        loss = F.nll_loss(output, target)\n",
        "        loss.backward()\n",
        "        optimizer.step()\n",
        "        if batch_idx % 100 == 0:\n",
        "            print('Train Epoch: {} [{}/{} ({:.0f}%)]\\tLoss: {:.6f}'.format(\n",
        "                epoch, batch_idx * len(data), len(train_loader.dataset),\n",
        "                100. * batch_idx / len(train_loader), loss.item()))\n",
        "            \n",
        "# Testing function \n",
        "def test(model, device, test_loader):\n",
        "    model.eval()\n",
        "    test_loss = 0\n",
        "    correct = 0\n",
        "    with torch.no_grad():\n",
        "        for data, target in test_loader:\n",
        "            data, target = data.to(device), target.to(device)\n",
        "            output = model(data)\n",
        "            test_loss += F.nll_loss(output, target, reduction='sum').item()  # sum up batch loss\n",
        "            pred = output.argmax(dim=1, keepdim=True)  # get the index of the max log-probability\n",
        "            correct += pred.eq(target.view_as(pred)).sum().item()\n",
        "    test_loss /= len(test_loader.dataset)\n",
        "    print('\\nTest set: Average loss: {:.4f}, Accuracy: {}/{} ({:.0f}%)\\n'.format(test_loss, correct, len(test_loader.dataset),100. * correct / len(test_loader.dataset)))\n"
      ],
      "execution_count": 6,
      "outputs": []
    },
    {
      "cell_type": "markdown",
      "metadata": {
        "id": "b6NgjDPw6HR1",
        "colab_type": "text"
      },
      "source": [
        "# Training and testing the network"
      ]
    },
    {
      "cell_type": "code",
      "metadata": {
        "id": "g80axPw6bzDx",
        "colab_type": "code",
        "colab": {}
      },
      "source": [
        "epochs = 10\n",
        "torch.manual_seed(1)\n",
        "device = torch.device('cpu')\n",
        "\n",
        "train_loader = torch.utils.data.DataLoader(train_data, batch_size=64)\n",
        "test_loader = torch.utils.data.DataLoader(test_data, batch_size=1000)"
      ],
      "execution_count": 7,
      "outputs": []
    },
    {
      "cell_type": "code",
      "metadata": {
        "id": "Mzey3S93ytr_",
        "colab_type": "code",
        "colab": {
          "base_uri": "https://localhost:8080/",
          "height": 1000
        },
        "outputId": "e71aee0a-2365-4503-beca-af60a7ad1528"
      },
      "source": [
        "model = Net().to(device)\n",
        "\n",
        "optimizer = optim.SGD(model.parameters(), lr=1.0)\n",
        "scheduler = StepLR(optimizer, step_size=1, gamma=0.7)\n",
        "\n",
        "for epoch in range(1, epochs + 1):\n",
        "    train(model, device, train_loader, optimizer, epoch)\n",
        "    test(model, device, test_loader)\n",
        "    scheduler.step()"
      ],
      "execution_count": 8,
      "outputs": [
        {
          "output_type": "stream",
          "text": [
            "Train Epoch: 1 [0/60000 (0%)]\tLoss: 2.316140\n",
            "Train Epoch: 1 [6400/60000 (11%)]\tLoss: 1.570680\n",
            "Train Epoch: 1 [12800/60000 (21%)]\tLoss: 1.327127\n",
            "Train Epoch: 1 [19200/60000 (32%)]\tLoss: 1.932730\n",
            "Train Epoch: 1 [25600/60000 (43%)]\tLoss: 1.902604\n",
            "Train Epoch: 1 [32000/60000 (53%)]\tLoss: 1.720650\n",
            "Train Epoch: 1 [38400/60000 (64%)]\tLoss: 1.480207\n",
            "Train Epoch: 1 [44800/60000 (75%)]\tLoss: 1.725107\n",
            "Train Epoch: 1 [51200/60000 (85%)]\tLoss: 1.964267\n",
            "Train Epoch: 1 [57600/60000 (96%)]\tLoss: 1.595859\n",
            "\n",
            "Test set: Average loss: 1.7456, Accuracy: 3395/10000 (34%)\n",
            "\n",
            "Train Epoch: 2 [0/60000 (0%)]\tLoss: 1.543003\n",
            "Train Epoch: 2 [6400/60000 (11%)]\tLoss: 1.838990\n",
            "Train Epoch: 2 [12800/60000 (21%)]\tLoss: 1.490138\n",
            "Train Epoch: 2 [19200/60000 (32%)]\tLoss: 1.294611\n",
            "Train Epoch: 2 [25600/60000 (43%)]\tLoss: 1.568705\n",
            "Train Epoch: 2 [32000/60000 (53%)]\tLoss: 1.514002\n",
            "Train Epoch: 2 [38400/60000 (64%)]\tLoss: 1.315111\n",
            "Train Epoch: 2 [44800/60000 (75%)]\tLoss: 1.287663\n",
            "Train Epoch: 2 [51200/60000 (85%)]\tLoss: 1.899956\n",
            "Train Epoch: 2 [57600/60000 (96%)]\tLoss: 1.078051\n",
            "\n",
            "Test set: Average loss: 1.3218, Accuracy: 4960/10000 (50%)\n",
            "\n",
            "Train Epoch: 3 [0/60000 (0%)]\tLoss: 1.040019\n",
            "Train Epoch: 3 [6400/60000 (11%)]\tLoss: 0.775917\n",
            "Train Epoch: 3 [12800/60000 (21%)]\tLoss: 0.856494\n",
            "Train Epoch: 3 [19200/60000 (32%)]\tLoss: 1.008290\n",
            "Train Epoch: 3 [25600/60000 (43%)]\tLoss: 0.874616\n",
            "Train Epoch: 3 [32000/60000 (53%)]\tLoss: 0.983186\n",
            "Train Epoch: 3 [38400/60000 (64%)]\tLoss: 0.847087\n",
            "Train Epoch: 3 [44800/60000 (75%)]\tLoss: 0.643364\n",
            "Train Epoch: 3 [51200/60000 (85%)]\tLoss: 1.255126\n",
            "Train Epoch: 3 [57600/60000 (96%)]\tLoss: 0.894358\n",
            "\n",
            "Test set: Average loss: 0.9194, Accuracy: 6447/10000 (64%)\n",
            "\n",
            "Train Epoch: 4 [0/60000 (0%)]\tLoss: 0.740712\n",
            "Train Epoch: 4 [6400/60000 (11%)]\tLoss: 0.761216\n",
            "Train Epoch: 4 [12800/60000 (21%)]\tLoss: 0.738861\n",
            "Train Epoch: 4 [19200/60000 (32%)]\tLoss: 0.934143\n",
            "Train Epoch: 4 [25600/60000 (43%)]\tLoss: 0.477405\n",
            "Train Epoch: 4 [32000/60000 (53%)]\tLoss: 0.863442\n",
            "Train Epoch: 4 [38400/60000 (64%)]\tLoss: 0.509086\n",
            "Train Epoch: 4 [44800/60000 (75%)]\tLoss: 0.371678\n",
            "Train Epoch: 4 [51200/60000 (85%)]\tLoss: 0.698858\n",
            "Train Epoch: 4 [57600/60000 (96%)]\tLoss: 0.526458\n",
            "\n",
            "Test set: Average loss: 0.5026, Accuracy: 8602/10000 (86%)\n",
            "\n",
            "Train Epoch: 5 [0/60000 (0%)]\tLoss: 0.305110\n",
            "Train Epoch: 5 [6400/60000 (11%)]\tLoss: 0.325278\n",
            "Train Epoch: 5 [12800/60000 (21%)]\tLoss: 0.234274\n",
            "Train Epoch: 5 [19200/60000 (32%)]\tLoss: 0.465125\n",
            "Train Epoch: 5 [25600/60000 (43%)]\tLoss: 0.168531\n",
            "Train Epoch: 5 [32000/60000 (53%)]\tLoss: 0.635044\n",
            "Train Epoch: 5 [38400/60000 (64%)]\tLoss: 0.323506\n",
            "Train Epoch: 5 [44800/60000 (75%)]\tLoss: 0.265453\n",
            "Train Epoch: 5 [51200/60000 (85%)]\tLoss: 0.404542\n",
            "Train Epoch: 5 [57600/60000 (96%)]\tLoss: 0.383279\n",
            "\n",
            "Test set: Average loss: 0.3666, Accuracy: 9025/10000 (90%)\n",
            "\n",
            "Train Epoch: 6 [0/60000 (0%)]\tLoss: 0.235091\n",
            "Train Epoch: 6 [6400/60000 (11%)]\tLoss: 0.256967\n",
            "Train Epoch: 6 [12800/60000 (21%)]\tLoss: 0.134907\n",
            "Train Epoch: 6 [19200/60000 (32%)]\tLoss: 0.458171\n",
            "Train Epoch: 6 [25600/60000 (43%)]\tLoss: 0.176160\n",
            "Train Epoch: 6 [32000/60000 (53%)]\tLoss: 0.438048\n",
            "Train Epoch: 6 [38400/60000 (64%)]\tLoss: 0.246706\n",
            "Train Epoch: 6 [44800/60000 (75%)]\tLoss: 0.280579\n",
            "Train Epoch: 6 [51200/60000 (85%)]\tLoss: 0.308606\n",
            "Train Epoch: 6 [57600/60000 (96%)]\tLoss: 0.384063\n",
            "\n",
            "Test set: Average loss: 0.3310, Accuracy: 9126/10000 (91%)\n",
            "\n",
            "Train Epoch: 7 [0/60000 (0%)]\tLoss: 0.199658\n",
            "Train Epoch: 7 [6400/60000 (11%)]\tLoss: 0.222113\n",
            "Train Epoch: 7 [12800/60000 (21%)]\tLoss: 0.124871\n",
            "Train Epoch: 7 [19200/60000 (32%)]\tLoss: 0.384222\n",
            "Train Epoch: 7 [25600/60000 (43%)]\tLoss: 0.185695\n",
            "Train Epoch: 7 [32000/60000 (53%)]\tLoss: 0.385452\n",
            "Train Epoch: 7 [38400/60000 (64%)]\tLoss: 0.192364\n",
            "Train Epoch: 7 [44800/60000 (75%)]\tLoss: 0.298150\n",
            "Train Epoch: 7 [51200/60000 (85%)]\tLoss: 0.260900\n",
            "Train Epoch: 7 [57600/60000 (96%)]\tLoss: 0.361287\n",
            "\n",
            "Test set: Average loss: 0.3013, Accuracy: 9216/10000 (92%)\n",
            "\n",
            "Train Epoch: 8 [0/60000 (0%)]\tLoss: 0.183384\n",
            "Train Epoch: 8 [6400/60000 (11%)]\tLoss: 0.225671\n",
            "Train Epoch: 8 [12800/60000 (21%)]\tLoss: 0.112299\n",
            "Train Epoch: 8 [19200/60000 (32%)]\tLoss: 0.384679\n",
            "Train Epoch: 8 [25600/60000 (43%)]\tLoss: 0.185149\n",
            "Train Epoch: 8 [32000/60000 (53%)]\tLoss: 0.357053\n",
            "Train Epoch: 8 [38400/60000 (64%)]\tLoss: 0.156715\n",
            "Train Epoch: 8 [44800/60000 (75%)]\tLoss: 0.295849\n",
            "Train Epoch: 8 [51200/60000 (85%)]\tLoss: 0.250518\n",
            "Train Epoch: 8 [57600/60000 (96%)]\tLoss: 0.349114\n",
            "\n",
            "Test set: Average loss: 0.2828, Accuracy: 9252/10000 (93%)\n",
            "\n",
            "Train Epoch: 9 [0/60000 (0%)]\tLoss: 0.157267\n",
            "Train Epoch: 9 [6400/60000 (11%)]\tLoss: 0.222987\n",
            "Train Epoch: 9 [12800/60000 (21%)]\tLoss: 0.118320\n",
            "Train Epoch: 9 [19200/60000 (32%)]\tLoss: 0.390057\n",
            "Train Epoch: 9 [25600/60000 (43%)]\tLoss: 0.182106\n",
            "Train Epoch: 9 [32000/60000 (53%)]\tLoss: 0.328533\n",
            "Train Epoch: 9 [38400/60000 (64%)]\tLoss: 0.138636\n",
            "Train Epoch: 9 [44800/60000 (75%)]\tLoss: 0.291897\n",
            "Train Epoch: 9 [51200/60000 (85%)]\tLoss: 0.237309\n",
            "Train Epoch: 9 [57600/60000 (96%)]\tLoss: 0.345885\n",
            "\n",
            "Test set: Average loss: 0.2731, Accuracy: 9280/10000 (93%)\n",
            "\n",
            "Train Epoch: 10 [0/60000 (0%)]\tLoss: 0.144058\n",
            "Train Epoch: 10 [6400/60000 (11%)]\tLoss: 0.223499\n",
            "Train Epoch: 10 [12800/60000 (21%)]\tLoss: 0.124200\n",
            "Train Epoch: 10 [19200/60000 (32%)]\tLoss: 0.384723\n",
            "Train Epoch: 10 [25600/60000 (43%)]\tLoss: 0.181798\n",
            "Train Epoch: 10 [32000/60000 (53%)]\tLoss: 0.308890\n",
            "Train Epoch: 10 [38400/60000 (64%)]\tLoss: 0.127431\n",
            "Train Epoch: 10 [44800/60000 (75%)]\tLoss: 0.285256\n",
            "Train Epoch: 10 [51200/60000 (85%)]\tLoss: 0.222351\n",
            "Train Epoch: 10 [57600/60000 (96%)]\tLoss: 0.346726\n",
            "\n",
            "Test set: Average loss: 0.2670, Accuracy: 9279/10000 (93%)\n",
            "\n"
          ],
          "name": "stdout"
        }
      ]
    },
    {
      "cell_type": "code",
      "metadata": {
        "id": "zLT_dUBXiwRA",
        "colab_type": "code",
        "colab": {
          "base_uri": "https://localhost:8080/",
          "height": 1000
        },
        "outputId": "162666d6-43a7-4d78-a1a2-67ecc972458f"
      },
      "source": [
        "model2 = Net().to(device)\n",
        "\n",
        "optimizer = optim.Adadelta(model2.parameters(), lr=1.0)\n",
        "scheduler = StepLR(optimizer, step_size=1, gamma=0.7)\n",
        "\n",
        "for epoch in range(1, epochs + 1):\n",
        "    train(model2, device, train_loader, optimizer, epoch)\n",
        "    test(model2, device, test_loader)\n",
        "    scheduler.step()\n"
      ],
      "execution_count": 9,
      "outputs": [
        {
          "output_type": "stream",
          "text": [
            "Train Epoch: 1 [0/60000 (0%)]\tLoss: 2.358223\n",
            "Train Epoch: 1 [6400/60000 (11%)]\tLoss: 0.274702\n",
            "Train Epoch: 1 [12800/60000 (21%)]\tLoss: 0.207276\n",
            "Train Epoch: 1 [19200/60000 (32%)]\tLoss: 0.209605\n",
            "Train Epoch: 1 [25600/60000 (43%)]\tLoss: 0.105831\n",
            "Train Epoch: 1 [32000/60000 (53%)]\tLoss: 0.264958\n",
            "Train Epoch: 1 [38400/60000 (64%)]\tLoss: 0.131132\n",
            "Train Epoch: 1 [44800/60000 (75%)]\tLoss: 0.242458\n",
            "Train Epoch: 1 [51200/60000 (85%)]\tLoss: 0.121660\n",
            "Train Epoch: 1 [57600/60000 (96%)]\tLoss: 0.206714\n",
            "\n",
            "Test set: Average loss: 0.1201, Accuracy: 9637/10000 (96%)\n",
            "\n",
            "Train Epoch: 2 [0/60000 (0%)]\tLoss: 0.055755\n",
            "Train Epoch: 2 [6400/60000 (11%)]\tLoss: 0.149057\n",
            "Train Epoch: 2 [12800/60000 (21%)]\tLoss: 0.081448\n",
            "Train Epoch: 2 [19200/60000 (32%)]\tLoss: 0.097550\n",
            "Train Epoch: 2 [25600/60000 (43%)]\tLoss: 0.069205\n",
            "Train Epoch: 2 [32000/60000 (53%)]\tLoss: 0.145014\n",
            "Train Epoch: 2 [38400/60000 (64%)]\tLoss: 0.047030\n",
            "Train Epoch: 2 [44800/60000 (75%)]\tLoss: 0.124022\n",
            "Train Epoch: 2 [51200/60000 (85%)]\tLoss: 0.122287\n",
            "Train Epoch: 2 [57600/60000 (96%)]\tLoss: 0.181022\n",
            "\n",
            "Test set: Average loss: 0.0930, Accuracy: 9737/10000 (97%)\n",
            "\n",
            "Train Epoch: 3 [0/60000 (0%)]\tLoss: 0.042265\n",
            "Train Epoch: 3 [6400/60000 (11%)]\tLoss: 0.088770\n",
            "Train Epoch: 3 [12800/60000 (21%)]\tLoss: 0.063669\n",
            "Train Epoch: 3 [19200/60000 (32%)]\tLoss: 0.040512\n",
            "Train Epoch: 3 [25600/60000 (43%)]\tLoss: 0.050358\n",
            "Train Epoch: 3 [32000/60000 (53%)]\tLoss: 0.079869\n",
            "Train Epoch: 3 [38400/60000 (64%)]\tLoss: 0.018967\n",
            "Train Epoch: 3 [44800/60000 (75%)]\tLoss: 0.076156\n",
            "Train Epoch: 3 [51200/60000 (85%)]\tLoss: 0.119191\n",
            "Train Epoch: 3 [57600/60000 (96%)]\tLoss: 0.142371\n",
            "\n",
            "Test set: Average loss: 0.0854, Accuracy: 9760/10000 (98%)\n",
            "\n",
            "Train Epoch: 4 [0/60000 (0%)]\tLoss: 0.022060\n",
            "Train Epoch: 4 [6400/60000 (11%)]\tLoss: 0.066254\n",
            "Train Epoch: 4 [12800/60000 (21%)]\tLoss: 0.033809\n",
            "Train Epoch: 4 [19200/60000 (32%)]\tLoss: 0.016890\n",
            "Train Epoch: 4 [25600/60000 (43%)]\tLoss: 0.034099\n",
            "Train Epoch: 4 [32000/60000 (53%)]\tLoss: 0.034703\n",
            "Train Epoch: 4 [38400/60000 (64%)]\tLoss: 0.009936\n",
            "Train Epoch: 4 [44800/60000 (75%)]\tLoss: 0.055262\n",
            "Train Epoch: 4 [51200/60000 (85%)]\tLoss: 0.105741\n",
            "Train Epoch: 4 [57600/60000 (96%)]\tLoss: 0.115959\n",
            "\n",
            "Test set: Average loss: 0.0822, Accuracy: 9764/10000 (98%)\n",
            "\n",
            "Train Epoch: 5 [0/60000 (0%)]\tLoss: 0.015562\n",
            "Train Epoch: 5 [6400/60000 (11%)]\tLoss: 0.055068\n",
            "Train Epoch: 5 [12800/60000 (21%)]\tLoss: 0.024589\n",
            "Train Epoch: 5 [19200/60000 (32%)]\tLoss: 0.013054\n",
            "Train Epoch: 5 [25600/60000 (43%)]\tLoss: 0.020179\n",
            "Train Epoch: 5 [32000/60000 (53%)]\tLoss: 0.020475\n",
            "Train Epoch: 5 [38400/60000 (64%)]\tLoss: 0.008797\n",
            "Train Epoch: 5 [44800/60000 (75%)]\tLoss: 0.043619\n",
            "Train Epoch: 5 [51200/60000 (85%)]\tLoss: 0.091170\n",
            "Train Epoch: 5 [57600/60000 (96%)]\tLoss: 0.103253\n",
            "\n",
            "Test set: Average loss: 0.0786, Accuracy: 9780/10000 (98%)\n",
            "\n",
            "Train Epoch: 6 [0/60000 (0%)]\tLoss: 0.011656\n",
            "Train Epoch: 6 [6400/60000 (11%)]\tLoss: 0.051125\n",
            "Train Epoch: 6 [12800/60000 (21%)]\tLoss: 0.021474\n",
            "Train Epoch: 6 [19200/60000 (32%)]\tLoss: 0.010347\n",
            "Train Epoch: 6 [25600/60000 (43%)]\tLoss: 0.015579\n",
            "Train Epoch: 6 [32000/60000 (53%)]\tLoss: 0.013676\n",
            "Train Epoch: 6 [38400/60000 (64%)]\tLoss: 0.009491\n",
            "Train Epoch: 6 [44800/60000 (75%)]\tLoss: 0.036273\n",
            "Train Epoch: 6 [51200/60000 (85%)]\tLoss: 0.083463\n",
            "Train Epoch: 6 [57600/60000 (96%)]\tLoss: 0.097269\n",
            "\n",
            "Test set: Average loss: 0.0750, Accuracy: 9790/10000 (98%)\n",
            "\n",
            "Train Epoch: 7 [0/60000 (0%)]\tLoss: 0.011086\n",
            "Train Epoch: 7 [6400/60000 (11%)]\tLoss: 0.044873\n",
            "Train Epoch: 7 [12800/60000 (21%)]\tLoss: 0.019548\n",
            "Train Epoch: 7 [19200/60000 (32%)]\tLoss: 0.008194\n",
            "Train Epoch: 7 [25600/60000 (43%)]\tLoss: 0.011735\n",
            "Train Epoch: 7 [32000/60000 (53%)]\tLoss: 0.011661\n",
            "Train Epoch: 7 [38400/60000 (64%)]\tLoss: 0.010834\n",
            "Train Epoch: 7 [44800/60000 (75%)]\tLoss: 0.031055\n",
            "Train Epoch: 7 [51200/60000 (85%)]\tLoss: 0.080078\n",
            "Train Epoch: 7 [57600/60000 (96%)]\tLoss: 0.092975\n",
            "\n",
            "Test set: Average loss: 0.0729, Accuracy: 9790/10000 (98%)\n",
            "\n",
            "Train Epoch: 8 [0/60000 (0%)]\tLoss: 0.011177\n",
            "Train Epoch: 8 [6400/60000 (11%)]\tLoss: 0.040255\n",
            "Train Epoch: 8 [12800/60000 (21%)]\tLoss: 0.019408\n",
            "Train Epoch: 8 [19200/60000 (32%)]\tLoss: 0.007826\n",
            "Train Epoch: 8 [25600/60000 (43%)]\tLoss: 0.010630\n",
            "Train Epoch: 8 [32000/60000 (53%)]\tLoss: 0.011296\n",
            "Train Epoch: 8 [38400/60000 (64%)]\tLoss: 0.010783\n",
            "Train Epoch: 8 [44800/60000 (75%)]\tLoss: 0.027517\n",
            "Train Epoch: 8 [51200/60000 (85%)]\tLoss: 0.079445\n",
            "Train Epoch: 8 [57600/60000 (96%)]\tLoss: 0.088496\n",
            "\n",
            "Test set: Average loss: 0.0716, Accuracy: 9803/10000 (98%)\n",
            "\n",
            "Train Epoch: 9 [0/60000 (0%)]\tLoss: 0.011393\n",
            "Train Epoch: 9 [6400/60000 (11%)]\tLoss: 0.037244\n",
            "Train Epoch: 9 [12800/60000 (21%)]\tLoss: 0.018578\n",
            "Train Epoch: 9 [19200/60000 (32%)]\tLoss: 0.007764\n",
            "Train Epoch: 9 [25600/60000 (43%)]\tLoss: 0.010221\n",
            "Train Epoch: 9 [32000/60000 (53%)]\tLoss: 0.010887\n",
            "Train Epoch: 9 [38400/60000 (64%)]\tLoss: 0.010580\n",
            "Train Epoch: 9 [44800/60000 (75%)]\tLoss: 0.024943\n",
            "Train Epoch: 9 [51200/60000 (85%)]\tLoss: 0.079093\n",
            "Train Epoch: 9 [57600/60000 (96%)]\tLoss: 0.084710\n",
            "\n",
            "Test set: Average loss: 0.0709, Accuracy: 9804/10000 (98%)\n",
            "\n",
            "Train Epoch: 10 [0/60000 (0%)]\tLoss: 0.011839\n",
            "Train Epoch: 10 [6400/60000 (11%)]\tLoss: 0.035458\n",
            "Train Epoch: 10 [12800/60000 (21%)]\tLoss: 0.018581\n",
            "Train Epoch: 10 [19200/60000 (32%)]\tLoss: 0.008033\n",
            "Train Epoch: 10 [25600/60000 (43%)]\tLoss: 0.010165\n",
            "Train Epoch: 10 [32000/60000 (53%)]\tLoss: 0.010676\n",
            "Train Epoch: 10 [38400/60000 (64%)]\tLoss: 0.010193\n",
            "Train Epoch: 10 [44800/60000 (75%)]\tLoss: 0.022843\n",
            "Train Epoch: 10 [51200/60000 (85%)]\tLoss: 0.078722\n",
            "Train Epoch: 10 [57600/60000 (96%)]\tLoss: 0.081640\n",
            "\n",
            "Test set: Average loss: 0.0708, Accuracy: 9802/10000 (98%)\n",
            "\n"
          ],
          "name": "stdout"
        }
      ]
    },
    {
      "cell_type": "code",
      "metadata": {
        "id": "INptJKNWXBIn",
        "colab_type": "code",
        "colab": {
          "base_uri": "https://localhost:8080/",
          "height": 1000
        },
        "outputId": "a68eecc4-edd4-475c-a064-11840d12814f"
      },
      "source": [
        "model3 = Net2().to(device)\n",
        "\n",
        "optimizer = optim.Adadelta(model3.parameters(), lr=1.0)\n",
        "scheduler = StepLR(optimizer, step_size=1, gamma=0.7)\n",
        "\n",
        "for epoch in range(1, epochs + 1):\n",
        "    train(model3, device, train_loader, optimizer, epoch)\n",
        "    test(model3, device, test_loader)\n",
        "    scheduler.step()"
      ],
      "execution_count": 10,
      "outputs": [
        {
          "output_type": "stream",
          "text": [
            "Train Epoch: 1 [0/60000 (0%)]\tLoss: 4.884266\n",
            "Train Epoch: 1 [6400/60000 (11%)]\tLoss: 0.235587\n",
            "Train Epoch: 1 [12800/60000 (21%)]\tLoss: 0.257989\n",
            "Train Epoch: 1 [19200/60000 (32%)]\tLoss: 0.284904\n",
            "Train Epoch: 1 [25600/60000 (43%)]\tLoss: 0.125144\n",
            "Train Epoch: 1 [32000/60000 (53%)]\tLoss: 0.274446\n",
            "Train Epoch: 1 [38400/60000 (64%)]\tLoss: 0.185356\n",
            "Train Epoch: 1 [44800/60000 (75%)]\tLoss: 0.234766\n",
            "Train Epoch: 1 [51200/60000 (85%)]\tLoss: 0.169616\n",
            "Train Epoch: 1 [57600/60000 (96%)]\tLoss: 0.175034\n",
            "\n",
            "Test set: Average loss: 0.1245, Accuracy: 9628/10000 (96%)\n",
            "\n",
            "Train Epoch: 2 [0/60000 (0%)]\tLoss: 0.075707\n",
            "Train Epoch: 2 [6400/60000 (11%)]\tLoss: 0.159817\n",
            "Train Epoch: 2 [12800/60000 (21%)]\tLoss: 0.074471\n",
            "Train Epoch: 2 [19200/60000 (32%)]\tLoss: 0.128298\n",
            "Train Epoch: 2 [25600/60000 (43%)]\tLoss: 0.052415\n",
            "Train Epoch: 2 [32000/60000 (53%)]\tLoss: 0.088250\n",
            "Train Epoch: 2 [38400/60000 (64%)]\tLoss: 0.081520\n",
            "Train Epoch: 2 [44800/60000 (75%)]\tLoss: 0.164950\n",
            "Train Epoch: 2 [51200/60000 (85%)]\tLoss: 0.144246\n",
            "Train Epoch: 2 [57600/60000 (96%)]\tLoss: 0.166359\n",
            "\n",
            "Test set: Average loss: 0.1006, Accuracy: 9720/10000 (97%)\n",
            "\n",
            "Train Epoch: 3 [0/60000 (0%)]\tLoss: 0.044393\n",
            "Train Epoch: 3 [6400/60000 (11%)]\tLoss: 0.081829\n",
            "Train Epoch: 3 [12800/60000 (21%)]\tLoss: 0.088846\n",
            "Train Epoch: 3 [19200/60000 (32%)]\tLoss: 0.050197\n",
            "Train Epoch: 3 [25600/60000 (43%)]\tLoss: 0.026230\n",
            "Train Epoch: 3 [32000/60000 (53%)]\tLoss: 0.058539\n",
            "Train Epoch: 3 [38400/60000 (64%)]\tLoss: 0.054187\n",
            "Train Epoch: 3 [44800/60000 (75%)]\tLoss: 0.068263\n",
            "Train Epoch: 3 [51200/60000 (85%)]\tLoss: 0.134462\n",
            "Train Epoch: 3 [57600/60000 (96%)]\tLoss: 0.102571\n",
            "\n",
            "Test set: Average loss: 0.0885, Accuracy: 9768/10000 (98%)\n",
            "\n",
            "Train Epoch: 4 [0/60000 (0%)]\tLoss: 0.015900\n",
            "Train Epoch: 4 [6400/60000 (11%)]\tLoss: 0.034350\n",
            "Train Epoch: 4 [12800/60000 (21%)]\tLoss: 0.050125\n",
            "Train Epoch: 4 [19200/60000 (32%)]\tLoss: 0.012214\n",
            "Train Epoch: 4 [25600/60000 (43%)]\tLoss: 0.009087\n",
            "Train Epoch: 4 [32000/60000 (53%)]\tLoss: 0.023896\n",
            "Train Epoch: 4 [38400/60000 (64%)]\tLoss: 0.037493\n",
            "Train Epoch: 4 [44800/60000 (75%)]\tLoss: 0.037757\n",
            "Train Epoch: 4 [51200/60000 (85%)]\tLoss: 0.141117\n",
            "Train Epoch: 4 [57600/60000 (96%)]\tLoss: 0.079858\n",
            "\n",
            "Test set: Average loss: 0.0854, Accuracy: 9778/10000 (98%)\n",
            "\n",
            "Train Epoch: 5 [0/60000 (0%)]\tLoss: 0.008668\n",
            "Train Epoch: 5 [6400/60000 (11%)]\tLoss: 0.022571\n",
            "Train Epoch: 5 [12800/60000 (21%)]\tLoss: 0.029966\n",
            "Train Epoch: 5 [19200/60000 (32%)]\tLoss: 0.004874\n",
            "Train Epoch: 5 [25600/60000 (43%)]\tLoss: 0.004562\n",
            "Train Epoch: 5 [32000/60000 (53%)]\tLoss: 0.011054\n",
            "Train Epoch: 5 [38400/60000 (64%)]\tLoss: 0.019797\n",
            "Train Epoch: 5 [44800/60000 (75%)]\tLoss: 0.019249\n",
            "Train Epoch: 5 [51200/60000 (85%)]\tLoss: 0.122448\n",
            "Train Epoch: 5 [57600/60000 (96%)]\tLoss: 0.059425\n",
            "\n",
            "Test set: Average loss: 0.0820, Accuracy: 9789/10000 (98%)\n",
            "\n",
            "Train Epoch: 6 [0/60000 (0%)]\tLoss: 0.005331\n",
            "Train Epoch: 6 [6400/60000 (11%)]\tLoss: 0.014689\n",
            "Train Epoch: 6 [12800/60000 (21%)]\tLoss: 0.022272\n",
            "Train Epoch: 6 [19200/60000 (32%)]\tLoss: 0.003296\n",
            "Train Epoch: 6 [25600/60000 (43%)]\tLoss: 0.002997\n",
            "Train Epoch: 6 [32000/60000 (53%)]\tLoss: 0.006067\n",
            "Train Epoch: 6 [38400/60000 (64%)]\tLoss: 0.010790\n",
            "Train Epoch: 6 [44800/60000 (75%)]\tLoss: 0.010159\n",
            "Train Epoch: 6 [51200/60000 (85%)]\tLoss: 0.115382\n",
            "Train Epoch: 6 [57600/60000 (96%)]\tLoss: 0.047178\n",
            "\n",
            "Test set: Average loss: 0.0808, Accuracy: 9797/10000 (98%)\n",
            "\n",
            "Train Epoch: 7 [0/60000 (0%)]\tLoss: 0.004334\n",
            "Train Epoch: 7 [6400/60000 (11%)]\tLoss: 0.010915\n",
            "Train Epoch: 7 [12800/60000 (21%)]\tLoss: 0.019456\n",
            "Train Epoch: 7 [19200/60000 (32%)]\tLoss: 0.001899\n",
            "Train Epoch: 7 [25600/60000 (43%)]\tLoss: 0.002624\n",
            "Train Epoch: 7 [32000/60000 (53%)]\tLoss: 0.004304\n",
            "Train Epoch: 7 [38400/60000 (64%)]\tLoss: 0.007201\n",
            "Train Epoch: 7 [44800/60000 (75%)]\tLoss: 0.007682\n",
            "Train Epoch: 7 [51200/60000 (85%)]\tLoss: 0.106372\n",
            "Train Epoch: 7 [57600/60000 (96%)]\tLoss: 0.038549\n",
            "\n",
            "Test set: Average loss: 0.0797, Accuracy: 9805/10000 (98%)\n",
            "\n",
            "Train Epoch: 8 [0/60000 (0%)]\tLoss: 0.004359\n",
            "Train Epoch: 8 [6400/60000 (11%)]\tLoss: 0.008639\n",
            "Train Epoch: 8 [12800/60000 (21%)]\tLoss: 0.019151\n",
            "Train Epoch: 8 [19200/60000 (32%)]\tLoss: 0.001494\n",
            "Train Epoch: 8 [25600/60000 (43%)]\tLoss: 0.002489\n",
            "Train Epoch: 8 [32000/60000 (53%)]\tLoss: 0.003640\n",
            "Train Epoch: 8 [38400/60000 (64%)]\tLoss: 0.005640\n",
            "Train Epoch: 8 [44800/60000 (75%)]\tLoss: 0.006020\n",
            "Train Epoch: 8 [51200/60000 (85%)]\tLoss: 0.100944\n",
            "Train Epoch: 8 [57600/60000 (96%)]\tLoss: 0.033949\n",
            "\n",
            "Test set: Average loss: 0.0787, Accuracy: 9817/10000 (98%)\n",
            "\n",
            "Train Epoch: 9 [0/60000 (0%)]\tLoss: 0.004367\n",
            "Train Epoch: 9 [6400/60000 (11%)]\tLoss: 0.007733\n",
            "Train Epoch: 9 [12800/60000 (21%)]\tLoss: 0.018520\n",
            "Train Epoch: 9 [19200/60000 (32%)]\tLoss: 0.001369\n",
            "Train Epoch: 9 [25600/60000 (43%)]\tLoss: 0.002071\n",
            "Train Epoch: 9 [32000/60000 (53%)]\tLoss: 0.003078\n",
            "Train Epoch: 9 [38400/60000 (64%)]\tLoss: 0.004628\n",
            "Train Epoch: 9 [44800/60000 (75%)]\tLoss: 0.005181\n",
            "Train Epoch: 9 [51200/60000 (85%)]\tLoss: 0.095987\n",
            "Train Epoch: 9 [57600/60000 (96%)]\tLoss: 0.030026\n",
            "\n",
            "Test set: Average loss: 0.0779, Accuracy: 9821/10000 (98%)\n",
            "\n",
            "Train Epoch: 10 [0/60000 (0%)]\tLoss: 0.004536\n",
            "Train Epoch: 10 [6400/60000 (11%)]\tLoss: 0.006864\n",
            "Train Epoch: 10 [12800/60000 (21%)]\tLoss: 0.018083\n",
            "Train Epoch: 10 [19200/60000 (32%)]\tLoss: 0.001333\n",
            "Train Epoch: 10 [25600/60000 (43%)]\tLoss: 0.002007\n",
            "Train Epoch: 10 [32000/60000 (53%)]\tLoss: 0.002751\n",
            "Train Epoch: 10 [38400/60000 (64%)]\tLoss: 0.004062\n",
            "Train Epoch: 10 [44800/60000 (75%)]\tLoss: 0.004739\n",
            "Train Epoch: 10 [51200/60000 (85%)]\tLoss: 0.091954\n",
            "Train Epoch: 10 [57600/60000 (96%)]\tLoss: 0.027449\n",
            "\n",
            "Test set: Average loss: 0.0773, Accuracy: 9819/10000 (98%)\n",
            "\n"
          ],
          "name": "stdout"
        }
      ]
    },
    {
      "cell_type": "markdown",
      "metadata": {
        "id": "aLcNSXrNWdAE",
        "colab_type": "text"
      },
      "source": [
        "# Using the trained NNs\n",
        "\n",
        "Now that we have a couple of trained NNs (we found the minimum of $\\mathbf{W}$ for each transformation), we can proceed to test it with single images and observe if it labels the images correctly.\n",
        "\n",
        "We will first try it with an image form the test data set, and then with images generated by ourselves in paint."
      ]
    },
    {
      "cell_type": "markdown",
      "metadata": {
        "id": "lqvtihxKr2qv",
        "colab_type": "text"
      },
      "source": [
        "## Single image from test data"
      ]
    },
    {
      "cell_type": "code",
      "metadata": {
        "id": "nlUU9vXabF-l",
        "colab_type": "code",
        "colab": {
          "base_uri": "https://localhost:8080/",
          "height": 108
        },
        "outputId": "d55469b0-9f73-4fd1-a61b-935bddbba0e5"
      },
      "source": [
        "# We proceed to extract a single image from the test data set\n",
        "SingleImg = torch.utils.data.DataLoader(test_data, batch_size=1,shuffle=True) #Pytorch only works with batches, so we need a batch of one element\n",
        "dataiter = iter(SingleImg) #iterate over the elements of the batch\n",
        "img1, label1 = dataiter.next() #extract the image and label in different tensors\n",
        "\n",
        "print(type(img1))\n",
        "print(img1.shape)\n",
        "print()\n",
        "print(type(label1))\n",
        "print(label1.shape)"
      ],
      "execution_count": 11,
      "outputs": [
        {
          "output_type": "stream",
          "text": [
            "<class 'torch.Tensor'>\n",
            "torch.Size([1, 1, 28, 28])\n",
            "\n",
            "<class 'torch.Tensor'>\n",
            "torch.Size([1])\n"
          ],
          "name": "stdout"
        }
      ]
    },
    {
      "cell_type": "code",
      "metadata": {
        "id": "6RSuctzbgHh1",
        "colab_type": "code",
        "colab": {
          "base_uri": "https://localhost:8080/",
          "height": 321
        },
        "outputId": "d12b01bf-d5a8-4fde-bced-b25978296975"
      },
      "source": [
        "plt.figure(figsize=(5, 5))\n",
        "plt.imshow(torch.squeeze(img1[0]), cmap='gray')\n",
        "plt.title(str(label1[0].item()), fontsize=25)\n",
        "plt.colorbar()"
      ],
      "execution_count": 12,
      "outputs": [
        {
          "output_type": "execute_result",
          "data": {
            "text/plain": [
              "<matplotlib.colorbar.Colorbar at 0x7faae9248ac8>"
            ]
          },
          "metadata": {
            "tags": []
          },
          "execution_count": 12
        },
        {
          "output_type": "display_data",
          "data": {
            "image/png": "[encoded data removed]",
            "text/plain": [
              "<Figure size 360x360 with 2 Axes>"
            ]
          },
          "metadata": {
            "tags": [],
            "needs_background": "light"
          }
        }
      ]
    },
    {
      "cell_type": "code",
      "metadata": {
        "id": "NZsT5f7YgPkK",
        "colab_type": "code",
        "colab": {
          "base_uri": "https://localhost:8080/",
          "height": 53
        },
        "outputId": "50865001-2402-4605-86ee-07d2c82bb2b2"
      },
      "source": [
        "out = model(img1)\n",
        "pred = out.argmax(dim=1, keepdim=True)  # get the index of the max log-probability\n",
        "print(pred)\n",
        "\n",
        "out = model2(img1)\n",
        "pred = out.argmax(dim=1, keepdim=True)  # get the index of the max log-probability\n",
        "print(pred)"
      ],
      "execution_count": 13,
      "outputs": [
        {
          "output_type": "stream",
          "text": [
            "tensor([[9]])\n",
            "tensor([[9]])\n"
          ],
          "name": "stdout"
        }
      ]
    },
    {
      "cell_type": "markdown",
      "metadata": {
        "id": "SyxbqKVAry9-",
        "colab_type": "text"
      },
      "source": [
        "## Several images from test data"
      ]
    },
    {
      "cell_type": "code",
      "metadata": {
        "id": "vtSn_2XJdBlQ",
        "colab_type": "code",
        "colab": {
          "base_uri": "https://localhost:8080/",
          "height": 122
        },
        "outputId": "8e89593a-6529-4fbc-cd22-8b61998d72b3"
      },
      "source": [
        "bs = 15\n",
        "SevImg = torch.utils.data.DataLoader(test_data, batch_size=bs, shuffle=True)\n",
        "dataiter = iter(train_loader)\n",
        "batchimg, batchlabel = dataiter.next()\n",
        "\n",
        "batchplot = plt.figure(figsize=(20, 5))\n",
        "for i in torch.arange(bs):\n",
        "    sub = batchplot.add_subplot(1, bs, i+1, xticks=[], yticks=[])\n",
        "    sub.imshow(torch.squeeze(batchimg[i]), cmap='gray')\n",
        "    sub.set_title(str(batchlabel[i].item()), fontsize=25)"
      ],
      "execution_count": 14,
      "outputs": [
        {
          "output_type": "display_data",
          "data": {
            "image/png": "[encoded data removed]",
            "text/plain": [
              "<Figure size 1440x360 with 15 Axes>"
            ]
          },
          "metadata": {
            "tags": []
          }
        }
      ]
    },
    {
      "cell_type": "code",
      "metadata": {
        "id": "VJ3alhRQsLcN",
        "colab_type": "code",
        "colab": {
          "base_uri": "https://localhost:8080/",
          "height": 308
        },
        "outputId": "9508c0b9-f417-4497-e51a-d43239889b6c"
      },
      "source": [
        "print(\"Label\",\"\\t\",\"NN_1\",\"\\t\",\"NN_2\")\n",
        "for i in range(bs):\n",
        "  out1 = model(batchimg[i])\n",
        "  pred1 = out1.argmax(dim=1, keepdim=True)  # get the index of the max log-probability\n",
        "  \n",
        "  out2 = model2(batchimg[i])\n",
        "  pred2 = out2.argmax(dim=1, keepdim=True)  # get the index of the max log-probability\n",
        "\n",
        "  #print(\"Label: \",batchlabel[i].item(),\" NN_1: \",torch.squeeze(pred1).item(), \" NN_2: \", torch.squeeze(pred2).item())\n",
        "  print(batchlabel[i].item(),\"\\t\",torch.squeeze(pred1).item(),\"\\t\",torch.squeeze(pred2).item())"
      ],
      "execution_count": 15,
      "outputs": [
        {
          "output_type": "stream",
          "text": [
            "Label \t NN_1 \t NN_2\n",
            "5 \t 5 \t 5\n",
            "0 \t 0 \t 0\n",
            "4 \t 4 \t 4\n",
            "1 \t 1 \t 1\n",
            "9 \t 9 \t 9\n",
            "2 \t 2 \t 2\n",
            "1 \t 1 \t 1\n",
            "3 \t 3 \t 3\n",
            "1 \t 1 \t 1\n",
            "4 \t 4 \t 4\n",
            "3 \t 3 \t 3\n",
            "5 \t 5 \t 5\n",
            "3 \t 3 \t 3\n",
            "6 \t 6 \t 6\n",
            "1 \t 1 \t 1\n"
          ],
          "name": "stdout"
        }
      ]
    },
    {
      "cell_type": "markdown",
      "metadata": {
        "id": "rerBWlpOJAov",
        "colab_type": "text"
      },
      "source": [
        "## User generated images\n",
        "\n",
        "I created 10 images in paint with the goal to test the trained NN.\n"
      ]
    },
    {
      "cell_type": "code",
      "metadata": {
        "id": "ieGo-Ln7um3m",
        "colab_type": "code",
        "colab": {}
      },
      "source": [
        "# To upload files on Google Colab\n",
        "# from google.colab import files\n",
        "# uploaded = files.upload()"
      ],
      "execution_count": 16,
      "outputs": []
    },
    {
      "cell_type": "markdown",
      "metadata": {
        "id": "toNgP-g4XalH",
        "colab_type": "text"
      },
      "source": [
        "### Single image\n",
        "\n"
      ]
    },
    {
      "cell_type": "code",
      "metadata": {
        "id": "oCAYFdPi02gQ",
        "colab_type": "code",
        "colab": {
          "base_uri": "https://localhost:8080/",
          "height": 429
        },
        "outputId": "d23529b4-38c1-4771-d40e-9c1bee7c26b4"
      },
      "source": [
        "from PIL import Image\n",
        "from numpy import asarray\n",
        "\n",
        "image = Image.open('1.png')\n",
        "data = asarray(image)*1.0 #conversion to float array\n",
        "data = torch.from_numpy(data[:,:,0])/255 #Normalizing to [0,1s]\n",
        "\n",
        "#Changing size from [28,28] to [1,1,28,28]\n",
        "#This is necessary because torch.nn only works with batches\n",
        "#Thus we fake the size of the array\n",
        "print(data.size())\n",
        "data = data.unsqueeze(0)\n",
        "data = data.unsqueeze(0)\n",
        "print(data.size())\n",
        "print()\n",
        "\n",
        "print(\"min: \",torch.min(data).item())\n",
        "print(\"max: \",torch.max(data).item())\n",
        "\n",
        "data = data/torch.max(data).item()\n",
        "data = data*(L2-L1)+L1\n",
        "\n",
        "print()\n",
        "print(\"min: \",torch.min(data).item())\n",
        "print(\"max: \",torch.max(data).item())\n",
        "\n",
        "plt.imshow(torch.squeeze(data),cmap='gray')\n",
        "plt.colorbar()"
      ],
      "execution_count": 17,
      "outputs": [
        {
          "output_type": "stream",
          "text": [
            "torch.Size([28, 28])\n",
            "torch.Size([1, 1, 28, 28])\n",
            "\n",
            "min:  0.0\n",
            "max:  1.0\n",
            "\n",
            "min:  -0.4242129623889923\n",
            "max:  2.821486681699753\n"
          ],
          "name": "stdout"
        },
        {
          "output_type": "execute_result",
          "data": {
            "text/plain": [
              "<matplotlib.colorbar.Colorbar at 0x7faae8109630>"
            ]
          },
          "metadata": {
            "tags": []
          },
          "execution_count": 17
        },
        {
          "output_type": "display_data",
          "data": {
            "image/png": "[encoded data removed]",
            "text/plain": [
              "<Figure size 432x288 with 2 Axes>"
            ]
          },
          "metadata": {
            "tags": [],
            "needs_background": "light"
          }
        }
      ]
    },
    {
      "cell_type": "markdown",
      "metadata": {
        "id": "rU5ljnf6ZzU4",
        "colab_type": "text"
      },
      "source": [
        "Double check on the dimensions of the array"
      ]
    },
    {
      "cell_type": "code",
      "metadata": {
        "id": "y-GERE6H5UXs",
        "colab_type": "code",
        "colab": {
          "base_uri": "https://localhost:8080/",
          "height": 90
        },
        "outputId": "4d02c100-0a53-43eb-b423-0b9068a1809f"
      },
      "source": [
        "print(img1.size())\n",
        "print(data.size())\n",
        "print(type(img1))\n",
        "print(type(data))"
      ],
      "execution_count": 18,
      "outputs": [
        {
          "output_type": "stream",
          "text": [
            "torch.Size([1, 1, 28, 28])\n",
            "torch.Size([1, 1, 28, 28])\n",
            "<class 'torch.Tensor'>\n",
            "<class 'torch.Tensor'>\n"
          ],
          "name": "stdout"
        }
      ]
    },
    {
      "cell_type": "code",
      "metadata": {
        "id": "FQK4jjRG77My",
        "colab_type": "code",
        "colab": {
          "base_uri": "https://localhost:8080/",
          "height": 72
        },
        "outputId": "7da5598b-3f1e-4bdd-c3ba-43dd4d097baa"
      },
      "source": [
        "data = data.float() \n",
        "\n",
        "out3 = model(data)\n",
        "pred3 = out3.argmax(dim=1, keepdim=True)  # get the index of the max log-probability\n",
        "print(\"NN_1 prediction: \",torch.squeeze(pred3).item())\n",
        "\n",
        "out3 = model2(data)\n",
        "pred3 = out3.argmax(dim=1, keepdim=True)  # get the index of the max log-probability\n",
        "print(\"NN_2 prediction: \",torch.squeeze(pred3).item())\n",
        "\n",
        "out3 = model3(data)\n",
        "pred3 = out3.argmax(dim=1, keepdim=True)  # get the index of the max log-probability\n",
        "print(\"NN_3 prediction: \",torch.squeeze(pred3).item())"
      ],
      "execution_count": 19,
      "outputs": [
        {
          "output_type": "stream",
          "text": [
            "NN_1 prediction:  8\n",
            "NN_2 prediction:  4\n",
            "NN_3 prediction:  4\n"
          ],
          "name": "stdout"
        }
      ]
    },
    {
      "cell_type": "markdown",
      "metadata": {
        "id": "2ImNt1HzaVmZ",
        "colab_type": "text"
      },
      "source": [
        "### Several images\n",
        "\n",
        "A single image may not be representative of the effectiveness of the NN, so now we test with the whole set of images."
      ]
    },
    {
      "cell_type": "code",
      "metadata": {
        "id": "_pPN2hLxJUhN",
        "colab_type": "code",
        "colab": {
          "base_uri": "https://localhost:8080/",
          "height": 154
        },
        "outputId": "bef085af-efa7-49d7-dec3-7c0df0c629e7"
      },
      "source": [
        "from PIL import Image\n",
        "import numpy as np\n",
        "\n",
        "pictures = torch.empty([10,1,28,28])\n",
        "\n",
        "for i in range(10):\n",
        "  image = Image.open(str(i)+\".png\")\n",
        "  data = asarray(image)*1.0\n",
        "  data = torch.from_numpy(data[:,:,0])/250\n",
        "  pictures[i,0,:,:] = data\n",
        "\n",
        "batchplot = plt.figure(figsize=(20, 5))\n",
        "for i in torch.arange(10):\n",
        "    sub = batchplot.add_subplot(1, 10, i+1, xticks=[], yticks=[])\n",
        "    aux = sub.imshow(torch.squeeze(pictures[i]), cmap='gray')\n",
        "    sub.set_title(str(i.item()), fontsize=25)\n",
        "\n"
      ],
      "execution_count": 20,
      "outputs": [
        {
          "output_type": "display_data",
          "data": {
            "image/png": "[encoded data removed]",
            "text/plain": [
              "<Figure size 1440x360 with 10 Axes>"
            ]
          },
          "metadata": {
            "tags": []
          }
        }
      ]
    },
    {
      "cell_type": "code",
      "metadata": {
        "id": "iQznd8APL7uX",
        "colab_type": "code",
        "colab": {
          "base_uri": "https://localhost:8080/",
          "height": 217
        },
        "outputId": "b636039a-697b-4786-daa5-0eed4f01b940"
      },
      "source": [
        "out4 = model(pictures)\n",
        "pred4 = out4.argmax(dim=1, keepdim=True)  # get the index of the max log-probability\n",
        "\n",
        "out5 = model2(pictures)\n",
        "pred5 = out5.argmax(dim=1, keepdim=True)  # get the index of the max log-probability\n",
        "\n",
        "out6 = model3(pictures)\n",
        "pred6 = out6.argmax(dim=1, keepdim=True)  # get the index of the max log-probability\n",
        "\n",
        "print(\"True\",\"\\t\",\"NN_1\",\"\\t\",\"NN_2\",\"\\t\",\"NN_3\",\"\\t\",)\n",
        "for i in range(10):\n",
        "  print(i,\"\\t\",pred4[i].item(),\"\\t\",pred5[i].item(),\"\\t\",pred6[i].item())"
      ],
      "execution_count": 21,
      "outputs": [
        {
          "output_type": "stream",
          "text": [
            "True \t NN_1 \t NN_2 \t NN_3 \t\n",
            "0 \t 3 \t 0 \t 0\n",
            "1 \t 8 \t 8 \t 1\n",
            "2 \t 3 \t 2 \t 2\n",
            "3 \t 3 \t 3 \t 3\n",
            "4 \t 8 \t 4 \t 4\n",
            "5 \t 8 \t 5 \t 5\n",
            "6 \t 3 \t 6 \t 6\n",
            "7 \t 3 \t 8 \t 8\n",
            "8 \t 3 \t 2 \t 3\n",
            "9 \t 3 \t 9 \t 9\n"
          ],
          "name": "stdout"
        }
      ]
    },
    {
      "cell_type": "markdown",
      "metadata": {
        "id": "6Cr1JNKPfD5b",
        "colab_type": "text"
      },
      "source": [
        "# Tensor flow Playground\n",
        "\n",
        "https://playground.tensorflow.org/#activation=tanh&batchSize=10&dataset=gauss&regDataset=reg-plane&learningRate=0.03&regularizationRate=0&noise=0&networkShape=2&seed=0.60764&showTestData=false&discretize=true&percTrainData=10&x=true&y=true&xTimesY=false&xSquared=false&ySquared=false&cosX=false&sinX=false&cosY=false&sinY=false&collectStats=false&problem=regression&initZero=false&hideText=false&playButton_hide=false"
      ]
    },
    {
      "cell_type": "code",
      "metadata": {
        "id": "3MAZDi3nazDC",
        "colab_type": "code",
        "colab": {}
      },
      "source": [
        ""
      ],
      "execution_count": 21,
      "outputs": []
    }
  ]
}
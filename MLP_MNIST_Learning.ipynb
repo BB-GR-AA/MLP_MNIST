{
  "nbformat": 4,
  "nbformat_minor": 0,
  "metadata": {
    "colab": {
      "name": "MLP_MNIST_Learning.ipynb",
      "provenance": [],
      "collapsed_sections": []
    },
    "kernelspec": {
      "name": "python3",
      "display_name": "Python 3"
    }
  },
  "cells": [
    {
      "cell_type": "markdown",
      "metadata": {
        "id": "0n56ChGSi7ST",
        "colab_type": "text"
      },
      "source": [
        "# Multilayer Perceptrion (MLP)\n",
        "\n",
        "- Classical ML example.\n",
        "- Use hidden-layers network to recognize numbers from images.\n",
        "\n",
        "Based on Marie Burle's course \\\\\n",
        "[Outline](https://wgschool.netlify.app/mlremake/) \\\\\n",
        "[Slides](https://westgrid-slides.netlify.app/pt_firstnn.html#/) \\\\\n",
        "\n",
        "<div>\n",
        "<img src=https://i.stack.imgur.com/xODHX.png width=\"500\"/>\n",
        "</div>\n",
        "\n",
        "Each connection between layers represents a linear transformations of the form: \\\\\n",
        "$T: \\mathbf{y} = \\mathbf{X}\\mathbf{w}+\\mathbf{b}$ \\\\\n",
        "\n",
        "# Google Colab \n",
        "Suggested tool. \\\\\n",
        "Ready to work, no instalation, no extra work, notebook.\n",
        "\n",
        "# MNIST dataset\n",
        "\n",
        "![](https://upload.wikimedia.org/wikipedia/commons/2/27/MnistExamples.png) \\\\\n",
        "Source: https://upload.wikimedia.org/wikipedia/commons/2/27/MnistExamples.png \\\\\n",
        "\n",
        "Greyscale 28x28 pixels (values from 0 to 255) \\\\\n",
        "60,000 training pairs, labeled from 0 to 9 \\\\\n",
        "10,000 testing pairs \\\\\n"
      ]
    },
    {
      "cell_type": "code",
      "metadata": {
        "id": "oQMm7QsEyg3B",
        "colab_type": "code",
        "colab": {}
      },
      "source": [
        "# Importing libraries\n",
        "\n",
        "import torch\n",
        "import torch.nn as nn\n",
        "import torch.optim as optim\n",
        "import torch.nn.functional as F\n",
        "from torchvision import datasets, transforms\n",
        "from torch.optim.lr_scheduler import StepLR\n",
        "import matplotlib.pyplot as plt\n"
      ],
      "execution_count": 42,
      "outputs": []
    },
    {
      "cell_type": "code",
      "metadata": {
        "id": "jCKmCn8RyqrI",
        "colab_type": "code",
        "colab": {
          "base_uri": "https://localhost:8080/",
          "height": 54
        },
        "outputId": "47bf03db-9f33-445f-e86a-1dd4ae76f412"
      },
      "source": [
        "# Loading and transforming the data into Pytorch tensors\n",
        "transform = transforms.Compose([transforms.ToTensor(),transforms.Normalize((0.1307,), (0.3081,))])\n",
        "# According to M. H. Burle, the mean and standard deviation of the MNIST training data are 0.1307 and 0.3081 respectively, hence these values\n",
        "\n",
        "train_data = datasets.MNIST('',train=True, download=True, transform=transform)\n",
        "test_data = datasets.MNIST('',train=False, download=True, transform=transform)\n",
        "\n",
        "print(f\"train_data elements: {len(train_data)}\")\n",
        "print(f\"test_data elements: {len(test_data)}\")"
      ],
      "execution_count": 43,
      "outputs": [
        {
          "output_type": "stream",
          "text": [
            "train_data elements: 60000\n",
            "test_data elements: 10000\n"
          ],
          "name": "stdout"
        }
      ]
    },
    {
      "cell_type": "code",
      "metadata": {
        "id": "7giuHBYLVE7l",
        "colab_type": "code",
        "colab": {
          "base_uri": "https://localhost:8080/",
          "height": 302
        },
        "outputId": "4b5a8b8b-d2a6-4898-de02-5d795f507987"
      },
      "source": [
        "# DataLoaders\n",
        "train_loader = torch.utils.data.DataLoader(train_data, batch_size=20, shuffle=True)\n",
        "dataiter = iter(train_loader)\n",
        "batchimg, batchlabel = dataiter.next()\n",
        "\n",
        "batchplot = plt.figure(figsize=(20, 5))\n",
        "for i in torch.arange(20):\n",
        "    sub = batchplot.add_subplot(2, 10, i+1, xticks=[], yticks=[])\n",
        "    sub.imshow(torch.squeeze(batchimg[i]), cmap='gray')\n",
        "    sub.set_title(str(batchlabel[i].item()), fontsize=25)"
      ],
      "execution_count": 44,
      "outputs": [
        {
          "output_type": "display_data",
          "data": {
            "image/png": "[encoded data removed]",
            "text/plain": [
              "<Figure size 1440x360 with 20 Axes>"
            ]
          },
          "metadata": {
            "tags": []
          }
        }
      ]
    },
    {
      "cell_type": "markdown",
      "metadata": {
        "id": "l37zj4I8jhuV",
        "colab_type": "text"
      },
      "source": [
        "# NN structure\n",
        "\n",
        "1 hidden layers \\\\\n",
        "Two transformations\n",
        "\n",
        "<div>\n",
        "<img src=https://drive.google.com/uc?export=view&id=1bjzN-nEp0Jcx5vdyRVozLlmDXwptWd4p width=\"500\"/>\n",
        "</div>\n",
        "\n",
        "784 pixels $\\xrightarrow{T_1}$ 128 neurons $\\xrightarrow{T_2}$ 10 neurons\n",
        "\n",
        "In Gonzalo's example we were using SGD to find the weights in \\\\\n",
        "$T: \\mathbf{y} = \\mathbf{X}\\mathbf{w}+\\mathbf{b}$ \\\\\n",
        "Here, we do that twice\n",
        "\n",
        "\n"
      ]
    },
    {
      "cell_type": "code",
      "metadata": {
        "id": "zqSMDodP2b35",
        "colab_type": "code",
        "colab": {}
      },
      "source": [
        "# class torch.nn.Module\n",
        "# is the \"Base class for all neural network modules\"\n",
        "# This is how we defin the network architecture\n",
        "\n",
        "class Net(nn.Module): \n",
        "  def __init__(self):\n",
        "    super(Net, self).__init__()\n",
        "    self.fc1 = nn.Linear(784,128) # fully connected\n",
        "    self.fc2 = nn.Linear(128,10) # 128 is arbitrary\n",
        "  def forward(self, x):\n",
        "    x = torch.flatten(x,1) #transforms a square, cube, etc into a line\n",
        "    x = self.fc1(x) # 1st LT\n",
        "    x = F.relu(x)   # activation function\n",
        "    x = self.fc2(x) # 2nd LT\n",
        "    output = F.log_softmax(x, dim=1) #activation function\n",
        "    return output\n",
        "\n",
        "model = Net()"
      ],
      "execution_count": 45,
      "outputs": []
    },
    {
      "cell_type": "markdown",
      "metadata": {
        "id": "BIJ7anSh5ta9",
        "colab_type": "text"
      },
      "source": [
        "# Implementation\n",
        "\n",
        "We will define the training and testing processes as functions so we can call them iteratively."
      ]
    },
    {
      "cell_type": "code",
      "metadata": {
        "id": "ojoyHjr15s7l",
        "colab_type": "code",
        "colab": {}
      },
      "source": [
        "# Training function\n",
        "def train(model, device, train_loader, optimizer, epoch):\n",
        "    model.train()\n",
        "    for batch_idx, (data, target) in enumerate(train_loader):\n",
        "        data, target = data.to(device), target.to(device)\n",
        "        optimizer.zero_grad()\n",
        "        output = model(data)\n",
        "        loss = F.nll_loss(output, target)\n",
        "        loss.backward()\n",
        "        optimizer.step()\n",
        "        if batch_idx % 100 == 0:\n",
        "            print('Train Epoch: {} [{}/{} ({:.0f}%)]\\tLoss: {:.6f}'.format(\n",
        "                epoch, batch_idx * len(data), len(train_loader.dataset),\n",
        "                100. * batch_idx / len(train_loader), loss.item()))\n",
        "            \n",
        "# Testing function \n",
        "def test(model, device, test_loader):\n",
        "    model.eval()\n",
        "    test_loss = 0\n",
        "    correct = 0\n",
        "    with torch.no_grad():\n",
        "        for data, target in test_loader:\n",
        "            data, target = data.to(device), target.to(device)\n",
        "            output = model(data)\n",
        "            test_loss += F.nll_loss(output, target, reduction='sum').item()  # sum up batch loss\n",
        "            pred = output.argmax(dim=1, keepdim=True)  # get the index of the max log-probability\n",
        "            correct += pred.eq(target.view_as(pred)).sum().item()\n",
        "    test_loss /= len(test_loader.dataset)\n",
        "    print('\\nTest set: Average loss: {:.4f}, Accuracy: {}/{} ({:.0f}%)\\n'.format(test_loss, correct, len(test_loader.dataset),100. * correct / len(test_loader.dataset)))\n"
      ],
      "execution_count": 46,
      "outputs": []
    },
    {
      "cell_type": "markdown",
      "metadata": {
        "id": "b6NgjDPw6HR1",
        "colab_type": "text"
      },
      "source": [
        "# Main program"
      ]
    },
    {
      "cell_type": "code",
      "metadata": {
        "id": "Mzey3S93ytr_",
        "colab_type": "code",
        "colab": {
          "base_uri": "https://localhost:8080/",
          "height": 733
        },
        "outputId": "f4885009-8fee-42f9-daa1-99851c41b9d1"
      },
      "source": [
        "epochs = 3\n",
        "torch.manual_seed(1)\n",
        "device = torch.device('cpu')\n",
        "\n",
        "train_loader = torch.utils.data.DataLoader(train_data, batch_size=64)\n",
        "test_loader = torch.utils.data.DataLoader(test_data, batch_size=1000)\n",
        "\n",
        "model = Net().to(device)\n",
        "\n",
        "optimizer = optim.SGD(model.parameters(), lr=1.0)\n",
        "scheduler = StepLR(optimizer, step_size=1, gamma=0.7)\n",
        "\n",
        "for epoch in range(1, epochs + 1):\n",
        "    train(model, device, train_loader, optimizer, epoch)\n",
        "    test(model, device, test_loader)\n",
        "    scheduler.step()"
      ],
      "execution_count": 47,
      "outputs": [
        {
          "output_type": "stream",
          "text": [
            "Train Epoch: 1 [0/60000 (0%)]\tLoss: 2.316140\n",
            "Train Epoch: 1 [6400/60000 (11%)]\tLoss: 1.851994\n",
            "Train Epoch: 1 [12800/60000 (21%)]\tLoss: 1.628405\n",
            "Train Epoch: 1 [19200/60000 (32%)]\tLoss: 1.744862\n",
            "Train Epoch: 1 [25600/60000 (43%)]\tLoss: 1.952065\n",
            "Train Epoch: 1 [32000/60000 (53%)]\tLoss: 1.941503\n",
            "Train Epoch: 1 [38400/60000 (64%)]\tLoss: 1.820217\n",
            "Train Epoch: 1 [44800/60000 (75%)]\tLoss: 1.377219\n",
            "Train Epoch: 1 [51200/60000 (85%)]\tLoss: 1.637684\n",
            "Train Epoch: 1 [57600/60000 (96%)]\tLoss: 1.653209\n",
            "\n",
            "Test set: Average loss: 1.4310, Accuracy: 4525/10000 (45%)\n",
            "\n",
            "Train Epoch: 2 [0/60000 (0%)]\tLoss: 1.439633\n",
            "Train Epoch: 2 [6400/60000 (11%)]\tLoss: 1.149947\n",
            "Train Epoch: 2 [12800/60000 (21%)]\tLoss: 1.569156\n",
            "Train Epoch: 2 [19200/60000 (32%)]\tLoss: 1.314520\n",
            "Train Epoch: 2 [25600/60000 (43%)]\tLoss: 1.316516\n",
            "Train Epoch: 2 [32000/60000 (53%)]\tLoss: 1.070232\n",
            "Train Epoch: 2 [38400/60000 (64%)]\tLoss: 1.381943\n",
            "Train Epoch: 2 [44800/60000 (75%)]\tLoss: 1.280977\n",
            "Train Epoch: 2 [51200/60000 (85%)]\tLoss: 1.291759\n",
            "Train Epoch: 2 [57600/60000 (96%)]\tLoss: 1.625965\n",
            "\n",
            "Test set: Average loss: 1.3477, Accuracy: 4626/10000 (46%)\n",
            "\n",
            "Train Epoch: 3 [0/60000 (0%)]\tLoss: 1.216476\n",
            "Train Epoch: 3 [6400/60000 (11%)]\tLoss: 1.336897\n",
            "Train Epoch: 3 [12800/60000 (21%)]\tLoss: 1.228001\n",
            "Train Epoch: 3 [19200/60000 (32%)]\tLoss: 0.868233\n",
            "Train Epoch: 3 [25600/60000 (43%)]\tLoss: 1.661671\n",
            "Train Epoch: 3 [32000/60000 (53%)]\tLoss: 1.198242\n",
            "Train Epoch: 3 [38400/60000 (64%)]\tLoss: 1.099500\n",
            "Train Epoch: 3 [44800/60000 (75%)]\tLoss: 1.193173\n",
            "Train Epoch: 3 [51200/60000 (85%)]\tLoss: 1.801463\n",
            "Train Epoch: 3 [57600/60000 (96%)]\tLoss: 0.934369\n",
            "\n",
            "Test set: Average loss: 0.9089, Accuracy: 6488/10000 (65%)\n",
            "\n"
          ],
          "name": "stdout"
        }
      ]
    },
    {
      "cell_type": "code",
      "metadata": {
        "id": "zLT_dUBXiwRA",
        "colab_type": "code",
        "colab": {
          "base_uri": "https://localhost:8080/",
          "height": 733
        },
        "outputId": "4f8d2419-df46-4d27-99ea-2ba6546ee3e1"
      },
      "source": [
        "epochs = 3\n",
        "torch.manual_seed(1)\n",
        "device = torch.device('cpu')\n",
        "\n",
        "train_loader = torch.utils.data.DataLoader(train_data, batch_size=64)\n",
        "test_loader = torch.utils.data.DataLoader(test_data, batch_size=1000)\n",
        "\n",
        "model = Net().to(device)\n",
        "\n",
        "optimizer = optim.Adadelta(model.parameters(), lr=1.0)\n",
        "scheduler = StepLR(optimizer, step_size=1, gamma=0.7)\n",
        "\n",
        "for epoch in range(1, epochs + 1):\n",
        "    train(model, device, train_loader, optimizer, epoch)\n",
        "    test(model, device, test_loader)\n",
        "    scheduler.step()\n"
      ],
      "execution_count": 48,
      "outputs": [
        {
          "output_type": "stream",
          "text": [
            "Train Epoch: 1 [0/60000 (0%)]\tLoss: 2.316140\n",
            "Train Epoch: 1 [6400/60000 (11%)]\tLoss: 0.240116\n",
            "Train Epoch: 1 [12800/60000 (21%)]\tLoss: 0.194445\n",
            "Train Epoch: 1 [19200/60000 (32%)]\tLoss: 0.226656\n",
            "Train Epoch: 1 [25600/60000 (43%)]\tLoss: 0.108003\n",
            "Train Epoch: 1 [32000/60000 (53%)]\tLoss: 0.284615\n",
            "Train Epoch: 1 [38400/60000 (64%)]\tLoss: 0.096462\n",
            "Train Epoch: 1 [44800/60000 (75%)]\tLoss: 0.190290\n",
            "Train Epoch: 1 [51200/60000 (85%)]\tLoss: 0.141079\n",
            "Train Epoch: 1 [57600/60000 (96%)]\tLoss: 0.187682\n",
            "\n",
            "Test set: Average loss: 0.1250, Accuracy: 9617/10000 (96%)\n",
            "\n",
            "Train Epoch: 2 [0/60000 (0%)]\tLoss: 0.064883\n",
            "Train Epoch: 2 [6400/60000 (11%)]\tLoss: 0.101919\n",
            "Train Epoch: 2 [12800/60000 (21%)]\tLoss: 0.070346\n",
            "Train Epoch: 2 [19200/60000 (32%)]\tLoss: 0.122680\n",
            "Train Epoch: 2 [25600/60000 (43%)]\tLoss: 0.052947\n",
            "Train Epoch: 2 [32000/60000 (53%)]\tLoss: 0.152433\n",
            "Train Epoch: 2 [38400/60000 (64%)]\tLoss: 0.030463\n",
            "Train Epoch: 2 [44800/60000 (75%)]\tLoss: 0.122487\n",
            "Train Epoch: 2 [51200/60000 (85%)]\tLoss: 0.082422\n",
            "Train Epoch: 2 [57600/60000 (96%)]\tLoss: 0.149583\n",
            "\n",
            "Test set: Average loss: 0.0915, Accuracy: 9730/10000 (97%)\n",
            "\n",
            "Train Epoch: 3 [0/60000 (0%)]\tLoss: 0.041971\n",
            "Train Epoch: 3 [6400/60000 (11%)]\tLoss: 0.091979\n",
            "Train Epoch: 3 [12800/60000 (21%)]\tLoss: 0.076477\n",
            "Train Epoch: 3 [19200/60000 (32%)]\tLoss: 0.083764\n",
            "Train Epoch: 3 [25600/60000 (43%)]\tLoss: 0.038938\n",
            "Train Epoch: 3 [32000/60000 (53%)]\tLoss: 0.084787\n",
            "Train Epoch: 3 [38400/60000 (64%)]\tLoss: 0.013852\n",
            "Train Epoch: 3 [44800/60000 (75%)]\tLoss: 0.075190\n",
            "Train Epoch: 3 [51200/60000 (85%)]\tLoss: 0.080611\n",
            "Train Epoch: 3 [57600/60000 (96%)]\tLoss: 0.091158\n",
            "\n",
            "Test set: Average loss: 0.0861, Accuracy: 9753/10000 (98%)\n",
            "\n"
          ],
          "name": "stdout"
        }
      ]
    }
  ]
}